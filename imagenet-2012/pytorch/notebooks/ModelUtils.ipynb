{
 "cells": [
  {
   "cell_type": "markdown",
   "metadata": {},
   "source": [
    "# remove module prefix from DataParallel"
   ]
  },
  {
   "cell_type": "code",
   "execution_count": 1,
   "metadata": {},
   "outputs": [
    {
     "name": "stdout",
     "output_type": "stream",
     "text": [
      "odict_keys(['module.conv1.weight', 'module.bn1.weight', 'module.bn1.bias', 'module.bn1.running_mean', 'module.bn1.running_var', 'module.bn1.num_batches_tracked', 'module.conv2x.0.conv1.weight', 'module.conv2x.0.bn1.weight', 'module.conv2x.0.bn1.bias', 'module.conv2x.0.bn1.running_mean', 'module.conv2x.0.bn1.running_var', 'module.conv2x.0.bn1.num_batches_tracked', 'module.conv2x.0.conv2.weight', 'module.conv2x.0.bn2.weight', 'module.conv2x.0.bn2.bias', 'module.conv2x.0.bn2.running_mean', 'module.conv2x.0.bn2.running_var', 'module.conv2x.0.bn2.num_batches_tracked', 'module.conv2x.1.conv1.weight', 'module.conv2x.1.bn1.weight', 'module.conv2x.1.bn1.bias', 'module.conv2x.1.bn1.running_mean', 'module.conv2x.1.bn1.running_var', 'module.conv2x.1.bn1.num_batches_tracked', 'module.conv2x.1.conv2.weight', 'module.conv2x.1.bn2.weight', 'module.conv2x.1.bn2.bias', 'module.conv2x.1.bn2.running_mean', 'module.conv2x.1.bn2.running_var', 'module.conv2x.1.bn2.num_batches_tracked', 'module.conv3x.0.conv1.weight', 'module.conv3x.0.bn1.weight', 'module.conv3x.0.bn1.bias', 'module.conv3x.0.bn1.running_mean', 'module.conv3x.0.bn1.running_var', 'module.conv3x.0.bn1.num_batches_tracked', 'module.conv3x.0.conv2.weight', 'module.conv3x.0.bn2.weight', 'module.conv3x.0.bn2.bias', 'module.conv3x.0.bn2.running_mean', 'module.conv3x.0.bn2.running_var', 'module.conv3x.0.bn2.num_batches_tracked', 'module.conv3x.0.projection.0.weight', 'module.conv3x.0.projection.1.weight', 'module.conv3x.0.projection.1.bias', 'module.conv3x.0.projection.1.running_mean', 'module.conv3x.0.projection.1.running_var', 'module.conv3x.0.projection.1.num_batches_tracked', 'module.conv3x.1.conv1.weight', 'module.conv3x.1.bn1.weight', 'module.conv3x.1.bn1.bias', 'module.conv3x.1.bn1.running_mean', 'module.conv3x.1.bn1.running_var', 'module.conv3x.1.bn1.num_batches_tracked', 'module.conv3x.1.conv2.weight', 'module.conv3x.1.bn2.weight', 'module.conv3x.1.bn2.bias', 'module.conv3x.1.bn2.running_mean', 'module.conv3x.1.bn2.running_var', 'module.conv3x.1.bn2.num_batches_tracked', 'module.conv4x.0.conv1.weight', 'module.conv4x.0.bn1.weight', 'module.conv4x.0.bn1.bias', 'module.conv4x.0.bn1.running_mean', 'module.conv4x.0.bn1.running_var', 'module.conv4x.0.bn1.num_batches_tracked', 'module.conv4x.0.conv2.weight', 'module.conv4x.0.bn2.weight', 'module.conv4x.0.bn2.bias', 'module.conv4x.0.bn2.running_mean', 'module.conv4x.0.bn2.running_var', 'module.conv4x.0.bn2.num_batches_tracked', 'module.conv4x.0.projection.0.weight', 'module.conv4x.0.projection.1.weight', 'module.conv4x.0.projection.1.bias', 'module.conv4x.0.projection.1.running_mean', 'module.conv4x.0.projection.1.running_var', 'module.conv4x.0.projection.1.num_batches_tracked', 'module.conv4x.1.conv1.weight', 'module.conv4x.1.bn1.weight', 'module.conv4x.1.bn1.bias', 'module.conv4x.1.bn1.running_mean', 'module.conv4x.1.bn1.running_var', 'module.conv4x.1.bn1.num_batches_tracked', 'module.conv4x.1.conv2.weight', 'module.conv4x.1.bn2.weight', 'module.conv4x.1.bn2.bias', 'module.conv4x.1.bn2.running_mean', 'module.conv4x.1.bn2.running_var', 'module.conv4x.1.bn2.num_batches_tracked', 'module.conv5x.0.conv1.weight', 'module.conv5x.0.bn1.weight', 'module.conv5x.0.bn1.bias', 'module.conv5x.0.bn1.running_mean', 'module.conv5x.0.bn1.running_var', 'module.conv5x.0.bn1.num_batches_tracked', 'module.conv5x.0.conv2.weight', 'module.conv5x.0.bn2.weight', 'module.conv5x.0.bn2.bias', 'module.conv5x.0.bn2.running_mean', 'module.conv5x.0.bn2.running_var', 'module.conv5x.0.bn2.num_batches_tracked', 'module.conv5x.0.projection.0.weight', 'module.conv5x.0.projection.1.weight', 'module.conv5x.0.projection.1.bias', 'module.conv5x.0.projection.1.running_mean', 'module.conv5x.0.projection.1.running_var', 'module.conv5x.0.projection.1.num_batches_tracked', 'module.conv5x.1.conv1.weight', 'module.conv5x.1.bn1.weight', 'module.conv5x.1.bn1.bias', 'module.conv5x.1.bn1.running_mean', 'module.conv5x.1.bn1.running_var', 'module.conv5x.1.bn1.num_batches_tracked', 'module.conv5x.1.conv2.weight', 'module.conv5x.1.bn2.weight', 'module.conv5x.1.bn2.bias', 'module.conv5x.1.bn2.running_mean', 'module.conv5x.1.bn2.running_var', 'module.conv5x.1.bn2.num_batches_tracked', 'module.linear.weight', 'module.linear.bias'])\n",
      "odict_keys(['conv1.weight', 'bn1.weight', 'bn1.bias', 'bn1.running_mean', 'bn1.running_var', 'bn1.num_batches_tracked', 'conv2x.0.conv1.weight', 'conv2x.0.bn1.weight', 'conv2x.0.bn1.bias', 'conv2x.0.bn1.running_mean', 'conv2x.0.bn1.running_var', 'conv2x.0.bn1.num_batches_tracked', 'conv2x.0.conv2.weight', 'conv2x.0.bn2.weight', 'conv2x.0.bn2.bias', 'conv2x.0.bn2.running_mean', 'conv2x.0.bn2.running_var', 'conv2x.0.bn2.num_batches_tracked', 'conv2x.1.conv1.weight', 'conv2x.1.bn1.weight', 'conv2x.1.bn1.bias', 'conv2x.1.bn1.running_mean', 'conv2x.1.bn1.running_var', 'conv2x.1.bn1.num_batches_tracked', 'conv2x.1.conv2.weight', 'conv2x.1.bn2.weight', 'conv2x.1.bn2.bias', 'conv2x.1.bn2.running_mean', 'conv2x.1.bn2.running_var', 'conv2x.1.bn2.num_batches_tracked', 'conv3x.0.conv1.weight', 'conv3x.0.bn1.weight', 'conv3x.0.bn1.bias', 'conv3x.0.bn1.running_mean', 'conv3x.0.bn1.running_var', 'conv3x.0.bn1.num_batches_tracked', 'conv3x.0.conv2.weight', 'conv3x.0.bn2.weight', 'conv3x.0.bn2.bias', 'conv3x.0.bn2.running_mean', 'conv3x.0.bn2.running_var', 'conv3x.0.bn2.num_batches_tracked', 'conv3x.0.projection.0.weight', 'conv3x.0.projection.1.weight', 'conv3x.0.projection.1.bias', 'conv3x.0.projection.1.running_mean', 'conv3x.0.projection.1.running_var', 'conv3x.0.projection.1.num_batches_tracked', 'conv3x.1.conv1.weight', 'conv3x.1.bn1.weight', 'conv3x.1.bn1.bias', 'conv3x.1.bn1.running_mean', 'conv3x.1.bn1.running_var', 'conv3x.1.bn1.num_batches_tracked', 'conv3x.1.conv2.weight', 'conv3x.1.bn2.weight', 'conv3x.1.bn2.bias', 'conv3x.1.bn2.running_mean', 'conv3x.1.bn2.running_var', 'conv3x.1.bn2.num_batches_tracked', 'conv4x.0.conv1.weight', 'conv4x.0.bn1.weight', 'conv4x.0.bn1.bias', 'conv4x.0.bn1.running_mean', 'conv4x.0.bn1.running_var', 'conv4x.0.bn1.num_batches_tracked', 'conv4x.0.conv2.weight', 'conv4x.0.bn2.weight', 'conv4x.0.bn2.bias', 'conv4x.0.bn2.running_mean', 'conv4x.0.bn2.running_var', 'conv4x.0.bn2.num_batches_tracked', 'conv4x.0.projection.0.weight', 'conv4x.0.projection.1.weight', 'conv4x.0.projection.1.bias', 'conv4x.0.projection.1.running_mean', 'conv4x.0.projection.1.running_var', 'conv4x.0.projection.1.num_batches_tracked', 'conv4x.1.conv1.weight', 'conv4x.1.bn1.weight', 'conv4x.1.bn1.bias', 'conv4x.1.bn1.running_mean', 'conv4x.1.bn1.running_var', 'conv4x.1.bn1.num_batches_tracked', 'conv4x.1.conv2.weight', 'conv4x.1.bn2.weight', 'conv4x.1.bn2.bias', 'conv4x.1.bn2.running_mean', 'conv4x.1.bn2.running_var', 'conv4x.1.bn2.num_batches_tracked', 'conv5x.0.conv1.weight', 'conv5x.0.bn1.weight', 'conv5x.0.bn1.bias', 'conv5x.0.bn1.running_mean', 'conv5x.0.bn1.running_var', 'conv5x.0.bn1.num_batches_tracked', 'conv5x.0.conv2.weight', 'conv5x.0.bn2.weight', 'conv5x.0.bn2.bias', 'conv5x.0.bn2.running_mean', 'conv5x.0.bn2.running_var', 'conv5x.0.bn2.num_batches_tracked', 'conv5x.0.projection.0.weight', 'conv5x.0.projection.1.weight', 'conv5x.0.projection.1.bias', 'conv5x.0.projection.1.running_mean', 'conv5x.0.projection.1.running_var', 'conv5x.0.projection.1.num_batches_tracked', 'conv5x.1.conv1.weight', 'conv5x.1.bn1.weight', 'conv5x.1.bn1.bias', 'conv5x.1.bn1.running_mean', 'conv5x.1.bn1.running_var', 'conv5x.1.bn1.num_batches_tracked', 'conv5x.1.conv2.weight', 'conv5x.1.bn2.weight', 'conv5x.1.bn2.bias', 'conv5x.1.bn2.running_mean', 'conv5x.1.bn2.running_var', 'conv5x.1.bn2.num_batches_tracked', 'linear.weight', 'linear.bias'])\n"
     ]
    }
   ],
   "source": [
    "import torch\n",
    "checkpoint = torch.load(\n",
    "    '../saved_models/resnet34-yanjiali-010319-epoch-129.pt', map_location='cpu')\n",
    "\n",
    "state_dict = checkpoint['model']\n",
    "\n",
    "print(state_dict.keys())\n",
    "\n",
    "from collections import OrderedDict\n",
    "new_state_dict = OrderedDict()\n",
    "for k, v in state_dict.items():\n",
    "    name = k[7:] # remove 'module.' of dataparallel\n",
    "    new_state_dict[name]=v\n",
    "    \n",
    "print(new_state_dict.keys())\n",
    "\n",
    "torch.save({\n",
    "    'epoch':\n",
    "    checkpoint['epoch'],\n",
    "    'model':\n",
    "    new_state_dict,\n",
    "    'optimizer':\n",
    "    checkpoint['optimizer'],\n",
    "    'scheduler':\n",
    "    checkpoint['scheduler'],\n",
    "    'loss_logger':\n",
    "    checkpoint['loss_logger'],\n",
    "    'acc_logger':\n",
    "    checkpoint['acc_logger'],\n",
    "}, '../saved_models/resnet34-yanjiali-010319-epoch-129.pt')"
   ]
  },
  {
   "cell_type": "code",
   "execution_count": null,
   "metadata": {},
   "outputs": [],
   "source": []
  }
 ],
 "metadata": {
  "kernelspec": {
   "display_name": "cv-classification",
   "language": "python",
   "name": "cv-classification"
  },
  "language_info": {
   "codemirror_mode": {
    "name": "ipython",
    "version": 3
   },
   "file_extension": ".py",
   "mimetype": "text/x-python",
   "name": "python",
   "nbconvert_exporter": "python",
   "pygments_lexer": "ipython3",
   "version": "3.7.0"
  }
 },
 "nbformat": 4,
 "nbformat_minor": 2
}
